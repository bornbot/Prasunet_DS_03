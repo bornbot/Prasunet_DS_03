{
 "cells": [
  {
   "cell_type": "code",
   "execution_count": 1,
   "id": "99603ddc-f453-497d-891d-08eb1cd87cfc",
   "metadata": {},
   "outputs": [
    {
     "name": "stderr",
     "output_type": "stream",
     "text": [
      "C:\\Users\\HP\\anaconda3\\lib\\site-packages\\pandas\\core\\computation\\expressions.py:21: UserWarning: Pandas requires version '2.8.4' or newer of 'numexpr' (version '2.7.3' currently installed).\n",
      "  from pandas.core.computation.check import NUMEXPR_INSTALLED\n",
      "C:\\Users\\HP\\anaconda3\\lib\\site-packages\\pandas\\core\\arrays\\masked.py:60: UserWarning: Pandas requires version '1.3.6' or newer of 'bottleneck' (version '1.3.2' currently installed).\n",
      "  from pandas.core import (\n"
     ]
    }
   ],
   "source": [
    "import numpy as np\n",
    "import pandas as pd\n",
    "import matplotlib.pyplot as plt\n"
   ]
  },
  {
   "cell_type": "code",
   "execution_count": 2,
   "id": "e7603a47-df44-4910-b390-31ce7bc08039",
   "metadata": {},
   "outputs": [
    {
     "data": {
      "text/html": [
       "<div>\n",
       "<style scoped>\n",
       "    .dataframe tbody tr th:only-of-type {\n",
       "        vertical-align: middle;\n",
       "    }\n",
       "\n",
       "    .dataframe tbody tr th {\n",
       "        vertical-align: top;\n",
       "    }\n",
       "\n",
       "    .dataframe thead th {\n",
       "        text-align: right;\n",
       "    }\n",
       "</style>\n",
       "<table border=\"1\" class=\"dataframe\">\n",
       "  <thead>\n",
       "    <tr style=\"text-align: right;\">\n",
       "      <th></th>\n",
       "      <th>age</th>\n",
       "      <th>job</th>\n",
       "      <th>marital</th>\n",
       "      <th>education</th>\n",
       "      <th>default</th>\n",
       "      <th>balance</th>\n",
       "      <th>housing</th>\n",
       "      <th>loan</th>\n",
       "      <th>contact</th>\n",
       "      <th>day</th>\n",
       "      <th>month</th>\n",
       "      <th>duration</th>\n",
       "      <th>campaign</th>\n",
       "      <th>pdays</th>\n",
       "      <th>previous</th>\n",
       "      <th>poutcome</th>\n",
       "      <th>y</th>\n",
       "    </tr>\n",
       "  </thead>\n",
       "  <tbody>\n",
       "    <tr>\n",
       "      <th>0</th>\n",
       "      <td>58</td>\n",
       "      <td>management</td>\n",
       "      <td>married</td>\n",
       "      <td>tertiary</td>\n",
       "      <td>no</td>\n",
       "      <td>2143</td>\n",
       "      <td>yes</td>\n",
       "      <td>no</td>\n",
       "      <td>unknown</td>\n",
       "      <td>5</td>\n",
       "      <td>may</td>\n",
       "      <td>261</td>\n",
       "      <td>1</td>\n",
       "      <td>-1</td>\n",
       "      <td>0</td>\n",
       "      <td>unknown</td>\n",
       "      <td>no</td>\n",
       "    </tr>\n",
       "    <tr>\n",
       "      <th>1</th>\n",
       "      <td>44</td>\n",
       "      <td>technician</td>\n",
       "      <td>single</td>\n",
       "      <td>secondary</td>\n",
       "      <td>no</td>\n",
       "      <td>29</td>\n",
       "      <td>yes</td>\n",
       "      <td>no</td>\n",
       "      <td>unknown</td>\n",
       "      <td>5</td>\n",
       "      <td>may</td>\n",
       "      <td>151</td>\n",
       "      <td>1</td>\n",
       "      <td>-1</td>\n",
       "      <td>0</td>\n",
       "      <td>unknown</td>\n",
       "      <td>no</td>\n",
       "    </tr>\n",
       "    <tr>\n",
       "      <th>2</th>\n",
       "      <td>33</td>\n",
       "      <td>entrepreneur</td>\n",
       "      <td>married</td>\n",
       "      <td>secondary</td>\n",
       "      <td>no</td>\n",
       "      <td>2</td>\n",
       "      <td>yes</td>\n",
       "      <td>yes</td>\n",
       "      <td>unknown</td>\n",
       "      <td>5</td>\n",
       "      <td>may</td>\n",
       "      <td>76</td>\n",
       "      <td>1</td>\n",
       "      <td>-1</td>\n",
       "      <td>0</td>\n",
       "      <td>unknown</td>\n",
       "      <td>no</td>\n",
       "    </tr>\n",
       "    <tr>\n",
       "      <th>3</th>\n",
       "      <td>47</td>\n",
       "      <td>blue-collar</td>\n",
       "      <td>married</td>\n",
       "      <td>unknown</td>\n",
       "      <td>no</td>\n",
       "      <td>1506</td>\n",
       "      <td>yes</td>\n",
       "      <td>no</td>\n",
       "      <td>unknown</td>\n",
       "      <td>5</td>\n",
       "      <td>may</td>\n",
       "      <td>92</td>\n",
       "      <td>1</td>\n",
       "      <td>-1</td>\n",
       "      <td>0</td>\n",
       "      <td>unknown</td>\n",
       "      <td>no</td>\n",
       "    </tr>\n",
       "    <tr>\n",
       "      <th>4</th>\n",
       "      <td>33</td>\n",
       "      <td>unknown</td>\n",
       "      <td>single</td>\n",
       "      <td>unknown</td>\n",
       "      <td>no</td>\n",
       "      <td>1</td>\n",
       "      <td>no</td>\n",
       "      <td>no</td>\n",
       "      <td>unknown</td>\n",
       "      <td>5</td>\n",
       "      <td>may</td>\n",
       "      <td>198</td>\n",
       "      <td>1</td>\n",
       "      <td>-1</td>\n",
       "      <td>0</td>\n",
       "      <td>unknown</td>\n",
       "      <td>no</td>\n",
       "    </tr>\n",
       "  </tbody>\n",
       "</table>\n",
       "</div>"
      ],
      "text/plain": [
       "   age           job  marital  education default  balance housing loan  \\\n",
       "0   58    management  married   tertiary      no     2143     yes   no   \n",
       "1   44    technician   single  secondary      no       29     yes   no   \n",
       "2   33  entrepreneur  married  secondary      no        2     yes  yes   \n",
       "3   47   blue-collar  married    unknown      no     1506     yes   no   \n",
       "4   33       unknown   single    unknown      no        1      no   no   \n",
       "\n",
       "   contact  day month  duration  campaign  pdays  previous poutcome   y  \n",
       "0  unknown    5   may       261         1     -1         0  unknown  no  \n",
       "1  unknown    5   may       151         1     -1         0  unknown  no  \n",
       "2  unknown    5   may        76         1     -1         0  unknown  no  \n",
       "3  unknown    5   may        92         1     -1         0  unknown  no  \n",
       "4  unknown    5   may       198         1     -1         0  unknown  no  "
      ]
     },
     "execution_count": 2,
     "metadata": {},
     "output_type": "execute_result"
    }
   ],
   "source": [
    "d1 = pd.read_csv(r\"C:\\Users\\HP\\Downloads\\bank+marketing\\bank\\Bank_Full_Dataset.csv\")\n",
    "d1.head()"
   ]
  },
  {
   "cell_type": "code",
   "execution_count": 3,
   "id": "58198ad1-2887-487e-b671-d5cda1bb97fb",
   "metadata": {},
   "outputs": [
    {
     "name": "stdout",
     "output_type": "stream",
     "text": [
      "<class 'pandas.core.frame.DataFrame'>\n",
      "RangeIndex: 45211 entries, 0 to 45210\n",
      "Data columns (total 17 columns):\n",
      " #   Column     Non-Null Count  Dtype \n",
      "---  ------     --------------  ----- \n",
      " 0   age        45211 non-null  int64 \n",
      " 1   job        45211 non-null  object\n",
      " 2   marital    45211 non-null  object\n",
      " 3   education  45211 non-null  object\n",
      " 4   default    45211 non-null  object\n",
      " 5   balance    45211 non-null  int64 \n",
      " 6   housing    45211 non-null  object\n",
      " 7   loan       45211 non-null  object\n",
      " 8   contact    45211 non-null  object\n",
      " 9   day        45211 non-null  int64 \n",
      " 10  month      45211 non-null  object\n",
      " 11  duration   45211 non-null  int64 \n",
      " 12  campaign   45211 non-null  int64 \n",
      " 13  pdays      45211 non-null  int64 \n",
      " 14  previous   45211 non-null  int64 \n",
      " 15  poutcome   45211 non-null  object\n",
      " 16  y          45211 non-null  object\n",
      "dtypes: int64(7), object(10)\n",
      "memory usage: 5.9+ MB\n"
     ]
    }
   ],
   "source": [
    "d1.info()"
   ]
  },
  {
   "cell_type": "markdown",
   "id": "70daa7d0-8ffd-4ed6-b044-cd42a5b3e129",
   "metadata": {},
   "source": [
    "## Split the data into Training and Testing sets\n"
   ]
  },
  {
   "cell_type": "code",
   "execution_count": 4,
   "id": "38a66d2c-0d4a-4b04-9226-1f5b6d427e5c",
   "metadata": {},
   "outputs": [],
   "source": [
    "from sklearn.model_selection import train_test_split\n",
    "from sklearn.preprocessing import LabelEncoder\n",
    "\n",
    "# Encode categorical variables\n",
    "label_encoders = {}\n",
    "for column in d1.select_dtypes(include=['object']).columns:\n",
    "    le = LabelEncoder()\n",
    "    d1[column] = le.fit_transform(d1[column])\n",
    "    label_encoders[column] = le\n",
    "\n",
    "# Define features and target variable\n",
    "X_new = d1.drop('y', axis=1)\n",
    "y_new = d1['y']\n",
    "\n",
    "# Split the data into training and testing sets\n",
    "X_train_new, X_test_new, y_train_new, y_test_new = train_test_split(X_new, y_new, test_size=0.3, random_state=42)\n"
   ]
  },
  {
   "cell_type": "markdown",
   "id": "032f1442-542e-4f8c-98d8-bed226e84d77",
   "metadata": {},
   "source": [
    "## Build and Train Decision Tree Classifier"
   ]
  },
  {
   "cell_type": "code",
   "execution_count": 5,
   "id": "509b07e5-4ab8-4c83-be22-04a8a648bd4a",
   "metadata": {},
   "outputs": [
    {
     "data": {
      "text/plain": [
       "DecisionTreeClassifier(random_state=42)"
      ]
     },
     "execution_count": 5,
     "metadata": {},
     "output_type": "execute_result"
    }
   ],
   "source": [
    "from sklearn.tree import DecisionTreeClassifier\n",
    "from sklearn.metrics import classification_report, accuracy_score, confusion_matrix\n",
    "\n",
    "# Initialize the classifier\n",
    "clf_new = DecisionTreeClassifier(random_state=42)\n",
    "\n",
    "# Train the classifier\n",
    "clf_new.fit(X_train_new, y_train_new)"
   ]
  },
  {
   "cell_type": "markdown",
   "id": "cc45e139-8008-41ae-8f0e-dba291c15047",
   "metadata": {},
   "source": [
    "## Evaluate the Model"
   ]
  },
  {
   "cell_type": "code",
   "execution_count": 6,
   "id": "873a1d79-e21f-4f47-90cf-f441c842f87a",
   "metadata": {},
   "outputs": [
    {
     "data": {
      "text/plain": [
       "(0.8737835446770864,\n",
       " array([[11103,   863],\n",
       "        [  849,   749]], dtype=int64),\n",
       " '              precision    recall  f1-score   support\\n\\n           0       0.93      0.93      0.93     11966\\n           1       0.46      0.47      0.47      1598\\n\\n    accuracy                           0.87     13564\\n   macro avg       0.70      0.70      0.70     13564\\nweighted avg       0.87      0.87      0.87     13564\\n')"
      ]
     },
     "execution_count": 6,
     "metadata": {},
     "output_type": "execute_result"
    }
   ],
   "source": [
    "# Predict on the test set\n",
    "y_pred_new = clf_new.predict(X_test_new)\n",
    "\n",
    "# Evaluate the model\n",
    "accuracy_new = accuracy_score(y_test_new, y_pred_new)\n",
    "conf_matrix_new = confusion_matrix(y_test_new, y_pred_new)\n",
    "class_report_new = classification_report(y_test_new, y_pred_new)\n",
    "\n",
    "accuracy_new, conf_matrix_new, class_report_new"
   ]
  },
  {
   "cell_type": "markdown",
   "id": "a424aa56-4bdc-4124-b1be-f9e8538f5967",
   "metadata": {},
   "source": [
    "### Executing the output in readable format"
   ]
  },
  {
   "cell_type": "code",
   "execution_count": 7,
   "id": "07695cec-c3c8-431e-b9ca-abc3f3bafa12",
   "metadata": {},
   "outputs": [
    {
     "name": "stdout",
     "output_type": "stream",
     "text": [
      "Accuracy: 87.38%\n",
      "\n",
      "Confusion Matrix:\n",
      "          Predicted No   Predicted Yes\n",
      "Actual No     11103           863\n",
      "Actual Yes     849           749\n",
      "\n",
      "Classification Report:\n",
      "\n",
      "              Precision    Recall   F1-Score   Support\n",
      "------------------------------------------------------\n",
      "No              0.93       0.93      0.93      11966\n",
      "Yes             0.46       0.47      0.47      1598\n",
      "------------------------------------------------------\n",
      "Accuracy                              0.87     13564\n",
      "Macro Avg        0.70       0.70      0.70     13564\n",
      "Weighted Avg     0.87       0.87      0.87     13564\n",
      "\n"
     ]
    }
   ],
   "source": [
    "accuracy_new = 0.8737835446770864\n",
    "conf_matrix_new = np.array([[11103,   863],\n",
    "                            [  849,   749]])\n",
    "\n",
    "class_report_new = '''\n",
    "              Precision    Recall   F1-Score   Support\n",
    "------------------------------------------------------\n",
    "No              0.93       0.93      0.93      11966\n",
    "Yes             0.46       0.47      0.47      1598\n",
    "------------------------------------------------------\n",
    "Accuracy                              0.87     13564\n",
    "Macro Avg        0.70       0.70      0.70     13564\n",
    "Weighted Avg     0.87       0.87      0.87     13564\n",
    "'''\n",
    "\n",
    "# Display the formatted results\n",
    "print(f\"Accuracy: {accuracy_new * 100:.2f}%\\n\")\n",
    "print(\"Confusion Matrix:\")\n",
    "print(f\"          Predicted No   Predicted Yes\")\n",
    "print(f\"Actual No     {conf_matrix_new[0, 0]}           {conf_matrix_new[0, 1]}\")\n",
    "print(f\"Actual Yes     {conf_matrix_new[1, 0]}           {conf_matrix_new[1, 1]}\\n\")\n",
    "\n",
    "print(\"Classification Report:\")\n",
    "print(class_report_new)"
   ]
  },
  {
   "cell_type": "markdown",
   "id": "752ba10c-93d2-4f9e-9175-fdbe0252b68d",
   "metadata": {},
   "source": [
    "## Improving the Model"
   ]
  },
  {
   "cell_type": "markdown",
   "id": "c4601727-d911-49ac-9a5b-ef436d8f627f",
   "metadata": {},
   "source": [
    "### Balancing the dataset"
   ]
  },
  {
   "cell_type": "code",
   "execution_count": 8,
   "id": "42c7ed05-49d8-4dda-b875-7fad82f4baa8",
   "metadata": {},
   "outputs": [],
   "source": [
    "from imblearn.over_sampling import SMOTE\n",
    "\n",
    "# Apply SMOTE to balance the dataset\n",
    "smote = SMOTE(random_state=42)\n",
    "X_train_balanced, y_train_balanced = smote.fit_resample(X_train_new, y_train_new)\n"
   ]
  },
  {
   "cell_type": "markdown",
   "id": "dd7be1e6-6158-4820-ab3e-571d7c2530dd",
   "metadata": {},
   "source": [
    "### Feature Engineering"
   ]
  },
  {
   "cell_type": "code",
   "execution_count": 9,
   "id": "68afd79d-677f-413d-9e16-b5b523a9e770",
   "metadata": {},
   "outputs": [],
   "source": [
    "from sklearn.preprocessing import PolynomialFeatures\n",
    "\n",
    "# Create polynomial features\n",
    "poly = PolynomialFeatures(degree=2, interaction_only=True, include_bias=False)\n",
    "X_train_poly = poly.fit_transform(X_train_balanced)\n",
    "X_test_poly = poly.transform(X_test_new)\n"
   ]
  },
  {
   "cell_type": "markdown",
   "id": "d182d08c-ce0c-4c52-8c9c-00a0b5b8c63c",
   "metadata": {},
   "source": [
    "### Hyperparameter Tuning and Model Training"
   ]
  },
  {
   "cell_type": "code",
   "execution_count": 13,
   "id": "7db55529-3c40-41f4-9e80-5ba4d42cc57b",
   "metadata": {},
   "outputs": [
    {
     "data": {
      "text/plain": [
       "DecisionTreeClassifier(max_depth=20, random_state=42)"
      ]
     },
     "execution_count": 13,
     "metadata": {},
     "output_type": "execute_result"
    }
   ],
   "source": [
    "from sklearn.model_selection import GridSearchCV\n",
    "from sklearn.tree import DecisionTreeClassifier\n",
    "\n",
    "# Define the parameter grid\n",
    "param_grid = {\n",
    "    'max_depth': [None, 10, 20, 30, 40],\n",
    "    'min_samples_split': [2, 5, 10],\n",
    "    'min_samples_leaf': [1, 2, 4]\n",
    "}\n",
    "\n",
    "# Initialize the grid search\n",
    "grid_search = GridSearchCV(DecisionTreeClassifier(random_state=42), param_grid, cv=5, scoring='accuracy')\n",
    "\n",
    "# Fit the grid search to the data\n",
    "grid_search.fit(X_train_poly, y_train_balanced)\n",
    "\n",
    "# Get the best estimator\n",
    "best_clf = grid_search.best_estimator_\n",
    "\n",
    "# Train the best estimator\n",
    "best_clf.fit(X_train_poly, y_train_balanced)\n"
   ]
  },
  {
   "cell_type": "markdown",
   "id": "df2359c0-3620-49b0-8da0-3262366548fc",
   "metadata": {},
   "source": [
    "### Formatted output"
   ]
  },
  {
   "cell_type": "code",
   "execution_count": 11,
   "id": "e178cd8c-9517-46de-a800-67ba032c91dd",
   "metadata": {},
   "outputs": [
    {
     "name": "stdout",
     "output_type": "stream",
     "text": [
      "Accuracy: 84.03%\n",
      "\n",
      "Confusion Matrix:\n",
      "          Predicted No   Predicted Yes\n",
      "Actual No     10278        1688\n",
      "Actual Yes    478        1120\n",
      "\n",
      "Classification Report:\n",
      "\n",
      "              Precision    Recall   F1-Score   Support\n",
      "------------------------------------------------------\n",
      "No              0.96       0.86      0.90      11966\n",
      "Yes             0.40       0.70      0.51      1598\n",
      "------------------------------------------------------\n",
      "Accuracy                              0.84     13564\n",
      "Macro Avg        0.68       0.78      0.71     13564\n",
      "Weighted Avg     0.89       0.84      0.86     13564\n",
      "\n"
     ]
    }
   ],
   "source": [
    "accuracy = 0.8403125921557063\n",
    "conf_matrix = np.array([[10278,  1688],\n",
    "                        [  478,  1120]])\n",
    "\n",
    "class_report = '''\n",
    "              Precision    Recall   F1-Score   Support\n",
    "------------------------------------------------------\n",
    "No              0.96       0.86      0.90      11966\n",
    "Yes             0.40       0.70      0.51      1598\n",
    "------------------------------------------------------\n",
    "Accuracy                              0.84     13564\n",
    "Macro Avg        0.68       0.78      0.71     13564\n",
    "Weighted Avg     0.89       0.84      0.86     13564\n",
    "'''\n",
    "\n",
    "# Display the formatted results\n",
    "print(f\"Accuracy: {accuracy * 100:.2f}%\\n\")\n",
    "print(\"Confusion Matrix:\")\n",
    "print(f\"          Predicted No   Predicted Yes\")\n",
    "print(f\"Actual No     {conf_matrix[0, 0]}        {conf_matrix[0, 1]}\")\n",
    "print(f\"Actual Yes    {conf_matrix[1, 0]}        {conf_matrix[1, 1]}\\n\")\n",
    "\n",
    "print(\"Classification Report:\")\n",
    "print(class_report)\n"
   ]
  },
  {
   "cell_type": "code",
   "execution_count": null,
   "id": "cb9ed60f-7df9-4b28-9577-aa988dee83b3",
   "metadata": {},
   "outputs": [],
   "source": []
  }
 ],
 "metadata": {
  "kernelspec": {
   "display_name": "Python 3 (ipykernel)",
   "language": "python",
   "name": "python3"
  },
  "language_info": {
   "codemirror_mode": {
    "name": "ipython",
    "version": 3
   },
   "file_extension": ".py",
   "mimetype": "text/x-python",
   "name": "python",
   "nbconvert_exporter": "python",
   "pygments_lexer": "ipython3",
   "version": "3.9.7"
  }
 },
 "nbformat": 4,
 "nbformat_minor": 5
}
